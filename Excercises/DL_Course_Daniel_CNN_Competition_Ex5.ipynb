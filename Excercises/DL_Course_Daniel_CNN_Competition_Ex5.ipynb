{
 "cells": [
  {
   "cell_type": "markdown",
   "id": "e24b8885",
   "metadata": {},
   "source": [
    "<h3> Data Preprocessing </h3>\n",
    "A word about the data - This dataset is called CIFAR 10. <br>\n",
    "The CIFAR-10 dataset consists of 60000 32x32 colour images in 10 classes, with 6000 images per class. There are 50000 training images and 10000 test images.\n",
    "More info can be found:\n",
    "\n",
    "[here](https://www.cs.toronto.edu/~kriz/cifar.html)."
   ]
  },
  {
   "cell_type": "code",
   "execution_count": 1,
   "id": "5af44e07",
   "metadata": {},
   "outputs": [
    {
     "name": "stderr",
     "output_type": "stream",
     "text": [
      "2022-07-08 14:19:20.071117: W tensorflow/stream_executor/platform/default/dso_loader.cc:64] Could not load dynamic library 'libcudart.so.11.0'; dlerror: libcudart.so.11.0: cannot open shared object file: No such file or directory\n",
      "2022-07-08 14:19:20.071138: I tensorflow/stream_executor/cuda/cudart_stub.cc:29] Ignore above cudart dlerror if you do not have a GPU set up on your machine.\n"
     ]
    },
    {
     "name": "stdout",
     "output_type": "stream",
     "text": [
      "Train shapes: (50000, 32, 32, 3)\n",
      "Test shapes: (10000, 32, 32, 3)\n",
      "Train shapes: (50000, 32, 32, 3)\n",
      "Test shapes: (10000, 32, 32, 3)\n"
     ]
    }
   ],
   "source": [
    "import numpy as np\n",
    "from tensorflow.keras.models import Sequential\n",
    "from tensorflow.keras.layers import Conv2D, MaxPooling2D, Dense, Flatten\n",
    "from tensorflow.keras.utils import to_categorical\n",
    "from tensorflow import keras\n",
    "\n",
    "# Get data\n",
    "(train_images, train_labels),(test_images, test_labels) = keras.datasets.cifar10.load_data()\n",
    "\n",
    "print(\"Train shapes:\", train_images.shape)\n",
    "print(\"Test shapes:\", test_images.shape)\n",
    "\n",
    "# Normalize the images.\n",
    "train_images = (train_images / 255) - 0.5\n",
    "test_images = (test_images / 255) - 0.5\n",
    "\n",
    "print(\"Train shapes:\", train_images.shape)\n",
    "print(\"Test shapes:\", test_images.shape)"
   ]
  },
  {
   "cell_type": "code",
   "execution_count": null,
   "id": "05936f66",
   "metadata": {},
   "outputs": [],
   "source": [
    "num_filters = 8\n",
    "filter_size = 3\n",
    "pool_size = 2\n",
    "\n",
    "# Build the model.\n",
    "model = Sequential([\n",
    "  ### TODO: Insert a reasonable architecture here.\n",
    "])\n",
    "\n",
    "# Compile the model.\n",
    "model.compile(\n",
    "  ### TODO: optimizer can be anything you want, loss should be relevant to the problem, metrics should be accuracy\n",
    ")\n",
    "\n",
    "# Train the model.\n",
    "model.fit(\n",
    "  train_images,\n",
    "  to_categorical(train_labels),\n",
    "  epochs=3,\n",
    "  validation_data=(test_images, to_categorical(test_labels))\n",
    ")"
   ]
  },
  {
   "cell_type": "code",
   "execution_count": null,
   "id": "b7e2674a",
   "metadata": {},
   "outputs": [],
   "source": [
    "# Save the model to disk.\n",
    "# model.save_weights('cnn.h5')\n",
    "\n",
    "# Load the model from disk later using:\n",
    "# model.load_weights('cnn.h5')\n",
    "\n",
    "### You can use the code below to evaluate some predictions\n",
    "# Predict on the first 5 test images.\n",
    "predictions = model.predict(test_images[:5])\n",
    "\n",
    "# Print our model's predictions.\n",
    "print(np.argmax(predictions, axis=1)) # [7, 2, 1, 0, 4]\n",
    "\n",
    "# Check our predictions against the ground truths.\n",
    "print(test_labels[:5]) # [7, 2, 1, 0, 4]"
   ]
  },
  {
   "cell_type": "code",
   "execution_count": null,
   "id": "7e91d7b5",
   "metadata": {},
   "outputs": [],
   "source": [
    "# You can use the code below to get a final score. first element is loss, second is accuracy\n",
    "model.evaluate(test_images, to_categorical(test_labels))"
   ]
  }
 ],
 "metadata": {
  "kernelspec": {
   "display_name": "Python 3 (ipykernel)",
   "language": "python",
   "name": "python3"
  },
  "language_info": {
   "codemirror_mode": {
    "name": "ipython",
    "version": 3
   },
   "file_extension": ".py",
   "mimetype": "text/x-python",
   "name": "python",
   "nbconvert_exporter": "python",
   "pygments_lexer": "ipython3",
   "version": "3.10.4"
  }
 },
 "nbformat": 4,
 "nbformat_minor": 5
}
