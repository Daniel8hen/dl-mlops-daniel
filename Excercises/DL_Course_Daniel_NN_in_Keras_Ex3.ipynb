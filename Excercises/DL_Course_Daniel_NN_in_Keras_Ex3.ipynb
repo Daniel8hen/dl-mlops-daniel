{
 "cells": [
  {
   "cell_type": "markdown",
   "id": "3af1996c",
   "metadata": {},
   "source": [
    "<h1> Intro to Deep Learning - Keras </h1>\n",
    "<br>\n",
    "Keras is a powerful and easy-to-use free open source Python library for developing and evaluating deep learning models."
   ]
  },
  {
   "cell_type": "markdown",
   "id": "79df6b09",
   "metadata": {},
   "source": [
    "<h2> First Neural Network with Keras </h2>\n",
    "Eventually, this course does not focus in it, however one of the biggest challenges is within the Data.\n",
    "Here you will get a \"ready-to-go\" dataset, which will be used for NN training (with Keras).\n",
    "The main goal of the excersice is to get you familiar with the Keras API, so you will see how easy is to:\n",
    "<li>develop a DL model</li>\n",
    "<li>train it on some data</li>\n",
    "<li>evaluate the model's performance on some unseen data (aka test)</li>"
   ]
  },
  {
   "cell_type": "markdown",
   "id": "185894ff",
   "metadata": {},
   "source": [
    "<h2> Data preprocessing </h2>\n",
    "<br>\n",
    "PIMA-Indians-Diabetes: The diagnostic, binary-valued variable investigated is whether the patient shows signs of diabetes according to World Health Organization criteria. \n",
    "<br>\n",
    "The population lives near Phoenix, Arizona, USA.\n",
    "<br>\n",
    "Each data point holds the below attributes (all numeric-valued):\n",
    "<ul>\n",
    "    <li>Number of times pregnant</li>\n",
    "    <li>Plasma glucose concentration a 2 hours in an oral glucose tolerance test</li>\n",
    "    <li>Diastolic blood pressure (mm Hg)</li>\n",
    "    <li>Triceps skin fold thickness (mm)</li>\n",
    "    <li>2-Hour serum insulin (mu U/ml)</li>\n",
    "    <li>Body mass index (weight in kg/(height in m)^2)</li>\n",
    "    <li>Diabetes pedigree function</li>\n",
    "    <li>Age (years)</li>\n",
    "    <li>Class variable (0 or 1)</li>"
   ]
  },
  {
   "cell_type": "code",
   "execution_count": 1,
   "id": "0f81c9cc",
   "metadata": {},
   "outputs": [],
   "source": [
    "# Let's import relevant libraries\n",
    "import numpy as np\n",
    "from numpy import loadtxt\n",
    "from keras.models import Sequential\n",
    "from keras.layers import Dense\n",
    "from sklearn.metrics import classification_report\n",
    "\n",
    "dataset = loadtxt('pima-indians-diabetes.csv', delimiter=',')\n",
    "X = dataset[:,:-1]\n",
    "y = dataset[:,-1]"
   ]
  },
  {
   "cell_type": "markdown",
   "id": "500e6ad8",
   "metadata": {},
   "source": [
    "<h2> DL Model using Keras </h2>\n",
    "<br>\n",
    "Here, we are using the Keras API.\n",
    "<br>\n",
    "TODO:\n",
    "<ul>\n",
    "    <li>1. You should define this architecture: Input: hidden(12 nodes) -> relu -> Hidden (8 nodes) -> relu: output(1) -> Sigmoid </li>\n",
    "    <li> 2. The model should have a <b>binary cross entropy loss</b>, and its optimizer should be <b>adam</b>. </li>\n",
    "    <li> 3. The model should optimize towards <b>accuracy</b> </li>\n",
    "    <li> 4. print model's architecture to console </li>\n",
    "</ul>"
   ]
  },
  {
   "cell_type": "code",
   "execution_count": 9,
   "id": "24c3ca47",
   "metadata": {},
   "outputs": [],
   "source": [
    "# define the keras model\n",
    "model = Sequential()\n",
    "### TODO: Define the architecture by Keras API"
   ]
  },
  {
   "cell_type": "code",
   "execution_count": 10,
   "id": "0c821a8c",
   "metadata": {},
   "outputs": [
    {
     "name": "stdout",
     "output_type": "stream",
     "text": [
      "Model: \"sequential_2\"\n",
      "_________________________________________________________________\n",
      "Layer (type)                 Output Shape              Param #   \n",
      "=================================================================\n",
      "dense_6 (Dense)              (None, 12)                108       \n",
      "_________________________________________________________________\n",
      "dense_7 (Dense)              (None, 8)                 104       \n",
      "_________________________________________________________________\n",
      "dense_8 (Dense)              (None, 1)                 9         \n",
      "=================================================================\n",
      "Total params: 221\n",
      "Trainable params: 221\n",
      "Non-trainable params: 0\n",
      "_________________________________________________________________\n"
     ]
    }
   ],
   "source": [
    "### TODO: Find the function that prints the model architecture into the console"
   ]
  },
  {
   "cell_type": "code",
   "execution_count": 11,
   "id": "4a4f66d6",
   "metadata": {},
   "outputs": [
    {
     "name": "stdout",
     "output_type": "stream",
     "text": [
      "Epoch 1/10\n",
      "77/77 [==============================] - 0s 732us/step - loss: 10.0868 - accuracy: 0.5474\n",
      "Epoch 2/10\n",
      "77/77 [==============================] - 0s 918us/step - loss: 2.1469 - accuracy: 0.5176\n",
      "Epoch 3/10\n",
      "77/77 [==============================] - 0s 933us/step - loss: 0.9300 - accuracy: 0.5954\n",
      "Epoch 4/10\n",
      "77/77 [==============================] - 0s 905us/step - loss: 0.7798 - accuracy: 0.6342\n",
      "Epoch 5/10\n",
      "77/77 [==============================] - 0s 1ms/step - loss: 0.7554 - accuracy: 0.6373\n",
      "Epoch 6/10\n",
      "77/77 [==============================] - 0s 1ms/step - loss: 0.7823 - accuracy: 0.6400\n",
      "Epoch 7/10\n",
      "77/77 [==============================] - 0s 971us/step - loss: 0.7489 - accuracy: 0.6721\n",
      "Epoch 8/10\n",
      "77/77 [==============================] - 0s 934us/step - loss: 0.7539 - accuracy: 0.6464\n",
      "Epoch 9/10\n",
      "77/77 [==============================] - 0s 1ms/step - loss: 0.7485 - accuracy: 0.6354\n",
      "Epoch 10/10\n",
      "77/77 [==============================] - 0s 1ms/step - loss: 0.7217 - accuracy: 0.6584\n",
      "[6.0, 148.0, 72.0, 35.0, 0.0, 33.6, 0.627, 50.0] => 1 (expected 1)\n",
      "[1.0, 85.0, 66.0, 29.0, 0.0, 26.6, 0.351, 31.0] => 0 (expected 0)\n",
      "[8.0, 183.0, 64.0, 0.0, 0.0, 23.3, 0.672, 32.0] => 1 (expected 1)\n",
      "[1.0, 89.0, 66.0, 23.0, 94.0, 28.1, 0.167, 21.0] => 0 (expected 0)\n",
      "[0.0, 137.0, 40.0, 35.0, 168.0, 43.1, 2.288, 33.0] => 1 (expected 1)\n"
     ]
    }
   ],
   "source": [
    "# fit the keras model on the dataset\n",
    "model.fit(X, y, epochs=10, batch_size=10, verbose=1)\n",
    "# make class predictions with the model\n",
    "predictions = model.predict_on_batch(X)\n",
    "# summarize the first 5 cases\n",
    "for i in range(5):\n",
    "    print('%s => %d (expected %d)' % (X[i].tolist(), predictions[i], y[i]))"
   ]
  },
  {
   "cell_type": "code",
   "execution_count": 5,
   "id": "6e028f87",
   "metadata": {},
   "outputs": [
    {
     "name": "stdout",
     "output_type": "stream",
     "text": [
      "              precision    recall  f1-score   support\n",
      "\n",
      "           0       0.72      0.79      0.76       500\n",
      "           1       0.53      0.43      0.47       268\n",
      "\n",
      "    accuracy                           0.67       768\n",
      "   macro avg       0.62      0.61      0.61       768\n",
      "weighted avg       0.65      0.67      0.66       768\n",
      "\n"
     ]
    }
   ],
   "source": [
    "# https://scikit-learn.org/stable/modules/generated/sklearn.metrics.classification_report.html\n",
    "print(classification_report(y, predictions, target_names=['0', '1']))"
   ]
  }
 ],
 "metadata": {
  "kernelspec": {
   "display_name": "Python 3 (ipykernel)",
   "language": "python",
   "name": "python3"
  },
  "language_info": {
   "codemirror_mode": {
    "name": "ipython",
    "version": 3
   },
   "file_extension": ".py",
   "mimetype": "text/x-python",
   "name": "python",
   "nbconvert_exporter": "python",
   "pygments_lexer": "ipython3",
   "version": "3.9.7"
  }
 },
 "nbformat": 4,
 "nbformat_minor": 5
}
