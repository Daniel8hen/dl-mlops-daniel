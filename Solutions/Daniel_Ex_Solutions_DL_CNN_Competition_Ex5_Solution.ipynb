{
 "cells": [
  {
   "cell_type": "code",
   "execution_count": 1,
   "id": "69753143",
   "metadata": {
    "colab": {
     "base_uri": "https://localhost:8080/"
    },
    "id": "69753143",
    "outputId": "a0f3e183-739c-434f-a30f-03ae25be57ef"
   },
   "outputs": [
    {
     "name": "stdout",
     "output_type": "stream",
     "text": [
      "Downloading data from https://www.cs.toronto.edu/~kriz/cifar-10-python.tar.gz\n",
      "170498071/170498071 [==============================] - 11s 0us/step\n",
      "Train shapes: (50000, 32, 32, 3)\n",
      "Test shapes: (10000, 32, 32, 3)\n",
      "Train shapes: (50000, 32, 32, 3)\n",
      "Test shapes: (10000, 32, 32, 3)\n",
      "Epoch 1/20\n",
      "1563/1563 [==============================] - 10s 7ms/step - loss: 1.4065 - accuracy: 0.4959 - val_loss: 1.1721 - val_accuracy: 0.5840\n",
      "Epoch 2/20\n",
      "1563/1563 [==============================] - 10s 6ms/step - loss: 1.0709 - accuracy: 0.6217 - val_loss: 1.0153 - val_accuracy: 0.6429\n",
      "Epoch 3/20\n",
      "1563/1563 [==============================] - 10s 7ms/step - loss: 0.9238 - accuracy: 0.6791 - val_loss: 0.9396 - val_accuracy: 0.6657\n",
      "Epoch 4/20\n",
      "1563/1563 [==============================] - 10s 7ms/step - loss: 0.8079 - accuracy: 0.7178 - val_loss: 0.8916 - val_accuracy: 0.6920\n",
      "Epoch 5/20\n",
      "1563/1563 [==============================] - 10s 6ms/step - loss: 0.7192 - accuracy: 0.7483 - val_loss: 0.8767 - val_accuracy: 0.7032\n",
      "Epoch 6/20\n",
      "1563/1563 [==============================] - 10s 6ms/step - loss: 0.6362 - accuracy: 0.7785 - val_loss: 0.8939 - val_accuracy: 0.7016\n",
      "Epoch 7/20\n",
      "1563/1563 [==============================] - 10s 6ms/step - loss: 0.5623 - accuracy: 0.8042 - val_loss: 0.8863 - val_accuracy: 0.7134\n",
      "Epoch 8/20\n",
      "1563/1563 [==============================] - 10s 7ms/step - loss: 0.4945 - accuracy: 0.8267 - val_loss: 0.9208 - val_accuracy: 0.7151\n",
      "Epoch 9/20\n",
      "1563/1563 [==============================] - 10s 7ms/step - loss: 0.4287 - accuracy: 0.8511 - val_loss: 1.0077 - val_accuracy: 0.7051\n",
      "Epoch 10/20\n",
      "1563/1563 [==============================] - 10s 7ms/step - loss: 0.3701 - accuracy: 0.8706 - val_loss: 1.0390 - val_accuracy: 0.7096\n",
      "Epoch 11/20\n",
      "1563/1563 [==============================] - 11s 7ms/step - loss: 0.3171 - accuracy: 0.8895 - val_loss: 1.1331 - val_accuracy: 0.7015\n",
      "Epoch 12/20\n",
      "1563/1563 [==============================] - 11s 7ms/step - loss: 0.2703 - accuracy: 0.9047 - val_loss: 1.2890 - val_accuracy: 0.6925\n",
      "Epoch 13/20\n",
      "1563/1563 [==============================] - 10s 7ms/step - loss: 0.2325 - accuracy: 0.9177 - val_loss: 1.3129 - val_accuracy: 0.7034\n",
      "Epoch 14/20\n",
      "1563/1563 [==============================] - 10s 7ms/step - loss: 0.1976 - accuracy: 0.9297 - val_loss: 1.4214 - val_accuracy: 0.7027\n",
      "Epoch 15/20\n",
      "1563/1563 [==============================] - 10s 6ms/step - loss: 0.1794 - accuracy: 0.9368 - val_loss: 1.5735 - val_accuracy: 0.6909\n",
      "Epoch 16/20\n",
      "1563/1563 [==============================] - 10s 6ms/step - loss: 0.1531 - accuracy: 0.9457 - val_loss: 1.6298 - val_accuracy: 0.6958\n",
      "Epoch 17/20\n",
      "1563/1563 [==============================] - 10s 6ms/step - loss: 0.1381 - accuracy: 0.9515 - val_loss: 1.7834 - val_accuracy: 0.6907\n",
      "Epoch 18/20\n",
      "1563/1563 [==============================] - 10s 7ms/step - loss: 0.1308 - accuracy: 0.9539 - val_loss: 1.8936 - val_accuracy: 0.6935\n",
      "Epoch 19/20\n",
      "1563/1563 [==============================] - 10s 7ms/step - loss: 0.1194 - accuracy: 0.9579 - val_loss: 1.9604 - val_accuracy: 0.6918\n",
      "Epoch 20/20\n",
      "1563/1563 [==============================] - 10s 7ms/step - loss: 0.1128 - accuracy: 0.9604 - val_loss: 2.0851 - val_accuracy: 0.6873\n"
     ]
    },
    {
     "data": {
      "text/plain": [
       "<keras.src.callbacks.History at 0x2950d9100>"
      ]
     },
     "execution_count": 1,
     "metadata": {},
     "output_type": "execute_result"
    }
   ],
   "source": [
    "import numpy as np\n",
    "from tensorflow.keras.models import Sequential\n",
    "from tensorflow.keras.layers import Conv2D, MaxPooling2D, Dense, Flatten\n",
    "from tensorflow.keras.utils import to_categorical\n",
    "from tensorflow import keras\n",
    "\n",
    "# Get data\n",
    "(train_images, train_labels),(test_images, test_labels) = keras.datasets.cifar10.load_data()\n",
    "\n",
    "print(\"Train shapes:\", train_images.shape)\n",
    "print(\"Test shapes:\", test_images.shape)\n",
    "\n",
    "# Normalize the images.\n",
    "train_images = (train_images / 255) - 0.5\n",
    "test_images = (test_images / 255) - 0.5\n",
    "\n",
    "# Reshape the images.\n",
    "# train_images = np.expand_dims(train_images, axis=3)\n",
    "# test_images = np.expand_dims(test_images, axis=3)\n",
    "\n",
    "print(\"Train shapes:\", train_images.shape)\n",
    "print(\"Test shapes:\", test_images.shape)\n",
    "\n",
    "input_shape = (32, 32, 3)\n",
    "num_filters = 32\n",
    "filter_size = 4\n",
    "pool_size = 2\n",
    "num_filter_split = 2\n",
    "\n",
    "model=Sequential()\n",
    "model.add(Conv2D(filters=num_filters, kernel_size=filter_size, input_shape=input_shape,activation='relu'))\n",
    "model.add(MaxPooling2D(pool_size=pool_size))\n",
    "model.add(Conv2D(filters=num_filters, kernel_size=filter_size ,activation='relu'))\n",
    "model.add(MaxPooling2D(pool_size=pool_size))\n",
    "model.add(Flatten())\n",
    "model.add(Dense(256,activation='relu'))\n",
    "model.add(Dense(10,activation='softmax'))\n",
    "\n",
    "\n",
    "### Another option is to comment the above model= code, and un-comment the following.\n",
    "# The difference is only with a simpler model (below)\n",
    "# model = Sequential([\n",
    "#   Conv2D(num_filters, filter_size, input_shape=(32, 32, 3)),\n",
    "#   MaxPooling2D(pool_size=pool_size),\n",
    "#   Flatten(),\n",
    "#   Dense(10, activation='softmax'),\n",
    "# ])\n",
    "\n",
    "\n",
    "# Compile the model.\n",
    "model.compile(\n",
    "  'adam',\n",
    "  loss='categorical_crossentropy',\n",
    "  metrics=['accuracy'],\n",
    ")\n",
    "\n",
    "# Train the model.\n",
    "model.fit(\n",
    "  train_images,\n",
    "  to_categorical(train_labels),\n",
    "  epochs=20, # Changed num epochs\n",
    "  validation_data=(test_images, to_categorical(test_labels))\n",
    ")"
   ]
  },
  {
   "cell_type": "code",
   "execution_count": 4,
   "id": "d9a28650",
   "metadata": {
    "colab": {
     "base_uri": "https://localhost:8080/"
    },
    "id": "d9a28650",
    "outputId": "780cc038-20ea-4970-9e2e-b4092a6c19a4"
   },
   "outputs": [
    {
     "name": "stdout",
     "output_type": "stream",
     "text": [
      "1/1 [==============================] - 0s 13ms/step\n",
      "[3 1 8 0 6]\n",
      "[[3]\n",
      " [8]\n",
      " [8]\n",
      " [0]\n",
      " [6]]\n"
     ]
    }
   ],
   "source": [
    "# Save the model to disk.\n",
    "model.save_weights('cnn.h5')\n",
    "\n",
    "# Load the model from disk later using: (Not needed for now...)\n",
    "# model.load_weights('cnn.h5')\n",
    "\n",
    "# Predict on the first 5 test images.\n",
    "predictions = model.predict(test_images[:5])\n",
    "\n",
    "# Print our model's predictions.\n",
    "print(np.argmax(predictions, axis=1))\n",
    "\n",
    "# Check our predictions against the ground truths.\n",
    "print(test_labels[:5])\n",
    "\n",
    "# Doesn't seem the model is the best one\n",
    "# however we do have a baseline that works and that is the most important part here!"
   ]
  },
  {
   "cell_type": "code",
   "execution_count": 5,
   "id": "jQMdnA9Jeom5",
   "metadata": {
    "colab": {
     "base_uri": "https://localhost:8080/"
    },
    "id": "jQMdnA9Jeom5",
    "outputId": "766848aa-f374-4709-f851-35ef080a4bc9"
   },
   "outputs": [
    {
     "name": "stdout",
     "output_type": "stream",
     "text": [
      "313/313 [==============================] - 1s 2ms/step - loss: 2.0851 - accuracy: 0.6873\n"
     ]
    },
    {
     "data": {
      "text/plain": [
       "[2.08512282371521, 0.6873000264167786]"
      ]
     },
     "execution_count": 5,
     "metadata": {},
     "output_type": "execute_result"
    }
   ],
   "source": [
    "model.evaluate(test_images, to_categorical(test_labels))"
   ]
  }
 ],
 "metadata": {
  "accelerator": "GPU",
  "colab": {
   "provenance": []
  },
  "gpuClass": "standard",
  "kernelspec": {
   "display_name": "Python 3 (ipykernel)",
   "language": "python",
   "name": "python3"
  },
  "language_info": {
   "codemirror_mode": {
    "name": "ipython",
    "version": 3
   },
   "file_extension": ".py",
   "mimetype": "text/x-python",
   "name": "python",
   "nbconvert_exporter": "python",
   "pygments_lexer": "ipython3",
   "version": "3.9.6"
  }
 },
 "nbformat": 4,
 "nbformat_minor": 5
}
