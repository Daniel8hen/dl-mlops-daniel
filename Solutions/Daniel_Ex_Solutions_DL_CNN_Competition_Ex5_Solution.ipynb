{
  "cells": [
    {
      "cell_type": "code",
      "execution_count": 11,
      "id": "69753143",
      "metadata": {
        "colab": {
          "base_uri": "https://localhost:8080/"
        },
        "id": "69753143",
        "outputId": "a0f3e183-739c-434f-a30f-03ae25be57ef"
      },
      "outputs": [
        {
          "output_type": "stream",
          "name": "stdout",
          "text": [
            "Train shapes: (50000, 32, 32, 3)\n",
            "Test shapes: (10000, 32, 32, 3)\n",
            "Train shapes: (50000, 32, 32, 3)\n",
            "Test shapes: (10000, 32, 32, 3)\n",
            "Epoch 1/20\n",
            "1563/1563 [==============================] - 8s 5ms/step - loss: 1.3989 - accuracy: 0.4982 - val_loss: 1.1475 - val_accuracy: 0.5971\n",
            "Epoch 2/20\n",
            "1563/1563 [==============================] - 7s 4ms/step - loss: 1.0549 - accuracy: 0.6278 - val_loss: 1.0408 - val_accuracy: 0.6337\n",
            "Epoch 3/20\n",
            "1563/1563 [==============================] - 7s 4ms/step - loss: 0.9013 - accuracy: 0.6823 - val_loss: 0.9495 - val_accuracy: 0.6707\n",
            "Epoch 4/20\n",
            "1563/1563 [==============================] - 7s 5ms/step - loss: 0.7881 - accuracy: 0.7240 - val_loss: 0.9125 - val_accuracy: 0.6887\n",
            "Epoch 5/20\n",
            "1563/1563 [==============================] - 7s 4ms/step - loss: 0.6927 - accuracy: 0.7588 - val_loss: 0.8660 - val_accuracy: 0.6987\n",
            "Epoch 6/20\n",
            "1563/1563 [==============================] - 7s 5ms/step - loss: 0.6123 - accuracy: 0.7841 - val_loss: 0.8943 - val_accuracy: 0.6986\n",
            "Epoch 7/20\n",
            "1563/1563 [==============================] - 8s 5ms/step - loss: 0.5313 - accuracy: 0.8130 - val_loss: 0.8945 - val_accuracy: 0.7035\n",
            "Epoch 8/20\n",
            "1563/1563 [==============================] - 7s 4ms/step - loss: 0.4564 - accuracy: 0.8371 - val_loss: 0.9761 - val_accuracy: 0.6963\n",
            "Epoch 9/20\n",
            "1563/1563 [==============================] - 7s 5ms/step - loss: 0.3910 - accuracy: 0.8617 - val_loss: 1.0153 - val_accuracy: 0.7011\n",
            "Epoch 10/20\n",
            "1563/1563 [==============================] - 7s 4ms/step - loss: 0.3338 - accuracy: 0.8810 - val_loss: 1.1427 - val_accuracy: 0.6960\n",
            "Epoch 11/20\n",
            "1563/1563 [==============================] - 7s 4ms/step - loss: 0.2789 - accuracy: 0.9006 - val_loss: 1.1956 - val_accuracy: 0.7017\n",
            "Epoch 12/20\n",
            "1563/1563 [==============================] - 8s 5ms/step - loss: 0.2370 - accuracy: 0.9159 - val_loss: 1.3425 - val_accuracy: 0.6920\n",
            "Epoch 13/20\n",
            "1563/1563 [==============================] - 7s 5ms/step - loss: 0.1963 - accuracy: 0.9299 - val_loss: 1.4349 - val_accuracy: 0.6881\n",
            "Epoch 14/20\n",
            "1563/1563 [==============================] - 7s 5ms/step - loss: 0.1732 - accuracy: 0.9398 - val_loss: 1.5666 - val_accuracy: 0.6892\n",
            "Epoch 15/20\n",
            "1563/1563 [==============================] - 7s 4ms/step - loss: 0.1506 - accuracy: 0.9464 - val_loss: 1.7220 - val_accuracy: 0.6890\n",
            "Epoch 16/20\n",
            "1563/1563 [==============================] - 7s 4ms/step - loss: 0.1337 - accuracy: 0.9530 - val_loss: 1.7851 - val_accuracy: 0.6854\n",
            "Epoch 17/20\n",
            "1563/1563 [==============================] - 7s 5ms/step - loss: 0.1257 - accuracy: 0.9553 - val_loss: 1.8730 - val_accuracy: 0.6876\n",
            "Epoch 18/20\n",
            "1563/1563 [==============================] - 7s 4ms/step - loss: 0.1193 - accuracy: 0.9583 - val_loss: 1.9835 - val_accuracy: 0.6830\n",
            "Epoch 19/20\n",
            "1563/1563 [==============================] - 7s 4ms/step - loss: 0.1107 - accuracy: 0.9614 - val_loss: 2.0973 - val_accuracy: 0.6817\n",
            "Epoch 20/20\n",
            "1563/1563 [==============================] - 7s 4ms/step - loss: 0.0948 - accuracy: 0.9664 - val_loss: 2.2603 - val_accuracy: 0.6744\n"
          ]
        },
        {
          "output_type": "execute_result",
          "data": {
            "text/plain": [
              "<keras.callbacks.History at 0x7f249a4461c0>"
            ]
          },
          "metadata": {},
          "execution_count": 11
        }
      ],
      "source": [
        "import numpy as np\n",
        "from tensorflow.keras.models import Sequential\n",
        "from tensorflow.keras.layers import Conv2D, MaxPooling2D, Dense, Flatten\n",
        "from tensorflow.keras.utils import to_categorical\n",
        "from tensorflow import keras\n",
        "\n",
        "# Get data\n",
        "(train_images, train_labels),(test_images, test_labels) = keras.datasets.cifar10.load_data()\n",
        "\n",
        "print(\"Train shapes:\", train_images.shape)\n",
        "print(\"Test shapes:\", test_images.shape)\n",
        "\n",
        "# Normalize the images.\n",
        "train_images = (train_images / 255) - 0.5\n",
        "test_images = (test_images / 255) - 0.5\n",
        "\n",
        "# Reshape the images.\n",
        "# train_images = np.expand_dims(train_images, axis=3)\n",
        "# test_images = np.expand_dims(test_images, axis=3)\n",
        "\n",
        "print(\"Train shapes:\", train_images.shape)\n",
        "print(\"Test shapes:\", test_images.shape)\n",
        "\n",
        "input_shape = (32, 32, 3)\n",
        "num_filters = 32\n",
        "filter_size = 4\n",
        "pool_size = 2\n",
        "num_filter_split = 2\n",
        "\n",
        "model=Sequential()\n",
        "model.add(Conv2D(filters=num_filters, kernel_size=filter_size, input_shape=input_shape,activation='relu'))\n",
        "model.add(MaxPooling2D(pool_size=pool_size))\n",
        "model.add(Conv2D(filters=num_filters, kernel_size=filter_size ,activation='relu'))\n",
        "model.add(MaxPooling2D(pool_size=pool_size))\n",
        "model.add(Flatten())\n",
        "model.add(Dense(256,activation='relu'))\n",
        "model.add(Dense(10,activation='softmax'))\n",
        "\n",
        "\n",
        "# Compile the model.\n",
        "model.compile(\n",
        "  'adam',\n",
        "  loss='categorical_crossentropy',\n",
        "  metrics=['accuracy'],\n",
        ")\n",
        "\n",
        "# Train the model.\n",
        "model.fit(\n",
        "  train_images,\n",
        "  to_categorical(train_labels),\n",
        "  epochs=20, # Changed num epochs\n",
        "  validation_data=(test_images, to_categorical(test_labels))\n",
        ")"
      ]
    },
    {
      "cell_type": "code",
      "execution_count": 12,
      "id": "d9a28650",
      "metadata": {
        "colab": {
          "base_uri": "https://localhost:8080/"
        },
        "id": "d9a28650",
        "outputId": "780cc038-20ea-4970-9e2e-b4092a6c19a4"
      },
      "outputs": [
        {
          "output_type": "stream",
          "name": "stdout",
          "text": [
            "1/1 [==============================] - 0s 78ms/step\n",
            "[5 8 8 0 4]\n",
            "[[3]\n",
            " [8]\n",
            " [8]\n",
            " [0]\n",
            " [6]]\n"
          ]
        }
      ],
      "source": [
        "# Save the model to disk.\n",
        "model.save_weights('cnn.h5')\n",
        "\n",
        "# Load the model from disk later using:\n",
        "# model.load_weights('cnn.h5')\n",
        "\n",
        "# Predict on the first 5 test images.\n",
        "predictions = model.predict(test_images[:5])\n",
        "\n",
        "# Print our model's predictions.\n",
        "print(np.argmax(predictions, axis=1))\n",
        "\n",
        "# Check our predictions against the ground truths.\n",
        "print(test_labels[:5])\n",
        "\n",
        "# Doesn't seem the model is the best one\n",
        "# however we do have a baseline that works and that is the most important part here!"
      ]
    },
    {
      "cell_type": "code",
      "source": [
        "model.evaluate(test_images, to_categorical(test_labels))"
      ],
      "metadata": {
        "colab": {
          "base_uri": "https://localhost:8080/"
        },
        "id": "jQMdnA9Jeom5",
        "outputId": "766848aa-f374-4709-f851-35ef080a4bc9"
      },
      "id": "jQMdnA9Jeom5",
      "execution_count": 13,
      "outputs": [
        {
          "output_type": "stream",
          "name": "stdout",
          "text": [
            "313/313 [==============================] - 1s 3ms/step - loss: 2.2603 - accuracy: 0.6744\n"
          ]
        },
        {
          "output_type": "execute_result",
          "data": {
            "text/plain": [
              "[2.2603158950805664, 0.6743999719619751]"
            ]
          },
          "metadata": {},
          "execution_count": 13
        }
      ]
    }
  ],
  "metadata": {
    "kernelspec": {
      "display_name": "Python 3 (ipykernel)",
      "language": "python",
      "name": "python3"
    },
    "language_info": {
      "codemirror_mode": {
        "name": "ipython",
        "version": 3
      },
      "file_extension": ".py",
      "mimetype": "text/x-python",
      "name": "python",
      "nbconvert_exporter": "python",
      "pygments_lexer": "ipython3",
      "version": "3.10.4"
    },
    "colab": {
      "provenance": []
    },
    "accelerator": "GPU",
    "gpuClass": "standard"
  },
  "nbformat": 4,
  "nbformat_minor": 5
}