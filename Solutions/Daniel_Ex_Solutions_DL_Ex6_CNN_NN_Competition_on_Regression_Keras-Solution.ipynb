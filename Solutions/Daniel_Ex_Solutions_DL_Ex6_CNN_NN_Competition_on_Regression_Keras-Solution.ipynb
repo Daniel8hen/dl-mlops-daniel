{
 "cells": [
  {
   "cell_type": "markdown",
   "metadata": {
    "id": "I4a8-V9kMqi5"
   },
   "source": [
    "# Regression problem with Deep Learning (Keras)\n",
    "\n",
    "\n",
    "In this task, we are going to have a competition between NN and CNN, in order to check which type of network can predict the house of a price in a better way, based on some relevant parameters.\n",
    "\n",
    "At a high-level, neural networks are either encoders, decoders, or a combination of both. Encoders find patterns in raw data to form compact, useful representations. Decoders generate new data or high-resolution useful infomation from those representations. \n",
    "\n",
    "As a reminder, **Feed Forward Neural Networks (FFNNs)** is a network which its goal is to work on classification and regression problems, based on features (X->Y mapping, supervised problem). See the [aspect](#Part-1:-Boston-Housing-Price-Prediction-with-Feed-Forward-Neural-Networks) of this notebook for an example."
   ]
  },
  {
   "cell_type": "markdown",
   "metadata": {
    "id": "E7zLv-j5Mqi6"
   },
   "source": [
    "## Part 0: Prerequisites:\n",
    "\n",
    "\n",
    "[tf.keras](https://www.tensorflow.org/guide/keras) is the simplest way to build and train neural network models in TensorFlow (w/ Keras).\n",
    "\n",
    "Note that there's [tf.keras](https://www.tensorflow.org/guide/keras) (comes with TensorFlow) and there's [Keras](https://keras.io/) (standalone). You should be using [tf.keras](https://www.tensorflow.org/guide/keras) because (1) it comes with TensorFlow so you don't need to install anything extra and (2) it comes with powerful TensorFlow-specific features."
   ]
  },
  {
   "cell_type": "code",
   "execution_count": 1,
   "metadata": {
    "id": "0-W-w9bzMqi7",
    "outputId": "9065afe6-07a1-4c32-c9b5-b16394faa92d"
   },
   "outputs": [
    {
     "name": "stderr",
     "output_type": "stream",
     "text": [
      "2022-03-13 18:31:06.184849: W tensorflow/stream_executor/platform/default/dso_loader.cc:64] Could not load dynamic library 'libcudart.so.11.0'; dlerror: libcudart.so.11.0: cannot open shared object file: No such file or directory\n",
      "2022-03-13 18:31:06.184896: I tensorflow/stream_executor/cuda/cudart_stub.cc:29] Ignore above cudart dlerror if you do not have a GPU set up on your machine.\n"
     ]
    },
    {
     "name": "stdout",
     "output_type": "stream",
     "text": [
      "2.7.0\n"
     ]
    }
   ],
   "source": [
    "# TensorFlow and tf.keras\n",
    "import tensorflow as tf\n",
    "from tensorflow import keras\n",
    "from tensorflow.keras.layers import Conv2D, MaxPooling2D, Dropout, Flatten, Dense\n",
    "\n",
    "# Commonly used modules\n",
    "import numpy as np\n",
    "import os\n",
    "import sys\n",
    "\n",
    "# Images, plots, display, and visualization\n",
    "import matplotlib.pyplot as plt\n",
    "import pandas as pd\n",
    "import seaborn as sns\n",
    "\n",
    "print(tf.__version__)"
   ]
  },
  {
   "cell_type": "markdown",
   "metadata": {
    "id": "svVPdhSMMqi8"
   },
   "source": [
    "## Part 1: Boston Housing Price Prediction with Feed Forward Neural Networks\n",
    "\n",
    "Let's start with using a fully-connected neural network to do predict housing prices. The following image highlights the difference between regression and classification (see part 2). Given an observation as input, **regression** outputs a continuous value (e.g., exact temperature) and classificaiton outputs a class/category that the observation belongs to.\n",
    "\n",
    "<img src=\"https://i.imgur.com/vvSoAzg.jpg\" alt=\"classification_regression\" width=\"400\"/>\n",
    "\n",
    "For the Boston housing dataset, we get 506 rows of data, with 13 features in each. Our task is to build a regression model that takes these 13 features as input and output a single value prediction of the \"median value of owner-occupied homes (in thousands of USD).\"\n",
    "\n",
    "Now, we load the dataset. Loading the dataset returns four NumPy arrays:\n",
    "\n",
    "* The `train_images` and `train_labels` arrays are the *training set*—the data the model uses to learn.\n",
    "* The model is tested against the *test set*, the `test_images`, and `test_labels` arrays."
   ]
  },
  {
   "cell_type": "code",
   "execution_count": 2,
   "metadata": {
    "id": "xADfD0B9Mqi9"
   },
   "outputs": [
    {
     "name": "stdout",
     "output_type": "stream",
     "text": [
      "Train dataset size: X:  (404, 13)\n",
      "Train dataset size: y:  (404,)\n",
      "Test dataset size: X:  (102, 13)\n",
      "Test dataset size: y:  (102,)\n"
     ]
    }
   ],
   "source": [
    "(train_features, train_labels), (test_features, test_labels) = keras.datasets.boston_housing.load_data()\n",
    "\n",
    "# get per-feature statistics (mean, standard deviation) from the training set to normalize by\n",
    "train_mean = np.mean(train_features, axis=0)\n",
    "train_std = np.std(train_features, axis=0)\n",
    "train_features = (train_features - train_mean) / train_std\n",
    "print(\"Train dataset size: X: \", train_features.shape)\n",
    "print(\"Train dataset size: y: \", train_labels.shape)\n",
    "\n",
    "print(\"Test dataset size: X: \", test_features.shape)\n",
    "print(\"Test dataset size: y: \", test_labels.shape)"
   ]
  },
  {
   "cell_type": "code",
   "execution_count": 3,
   "metadata": {},
   "outputs": [],
   "source": [
    "# Reminder: For Conv1D CNN we shall reshape our dataset. \n",
    "# Thus, we'll have a function which will do it automatically for us as we need to do it more than once (train, test)\n",
    "\n",
    "def reshape_for_conv1d_dataset(dataset, input_dim=1, dataset_name='train'):    \n",
    "    print(f\"Going to work on data: {dataset_name}\")\n",
    "    print(\"original shape of data is:\", dataset.shape)\n",
    "\n",
    "    sample_size = dataset.shape[0] # number of samples in data set\n",
    "    num_features  = dataset.shape[1] # number of features in data set\n",
    "    input_dimension = input_dim    # each feature is represented by input_dim number\n",
    "\n",
    "    data_reshaped = dataset.reshape(sample_size,num_features,input_dimension)\n",
    "    print(f\"After reshape {dataset_name} data set shape:\\n\", data_reshaped.shape)\n",
    "    print(\"1 Sample shape:\\n\",data_reshaped[0].shape)\n",
    "    print(\"An example sample:\\n\", data_reshaped[0])\n",
    "    \n",
    "    return data_reshaped\n",
    "#     test_data_reshaped = test_data.reshape(test_data.shape[0],test_data.shape[1],1)\n",
    "# 102, 13, 1\n",
    "# print(test_data_reshaped.shape)"
   ]
  },
  {
   "cell_type": "code",
   "execution_count": 4,
   "metadata": {},
   "outputs": [
    {
     "name": "stdout",
     "output_type": "stream",
     "text": [
      "Going to work on data: train\n",
      "original shape of data is: (404, 13)\n",
      "After reshape train data set shape:\n",
      " (404, 13, 1)\n",
      "1 Sample shape:\n",
      " (13, 1)\n",
      "An example sample:\n",
      " [[-0.27224633]\n",
      " [-0.48361547]\n",
      " [-0.43576161]\n",
      " [-0.25683275]\n",
      " [-0.1652266 ]\n",
      " [-0.1764426 ]\n",
      " [ 0.81306188]\n",
      " [ 0.1166983 ]\n",
      " [-0.62624905]\n",
      " [-0.59517003]\n",
      " [ 1.14850044]\n",
      " [ 0.44807713]\n",
      " [ 0.8252202 ]]\n",
      "******\n",
      "Going to work on data: test\n",
      "original shape of data is: (102, 13)\n",
      "After reshape test data set shape:\n",
      " (102, 13, 1)\n",
      "1 Sample shape:\n",
      " (13, 1)\n",
      "An example sample:\n",
      " [[ 18.0846]\n",
      " [  0.    ]\n",
      " [ 18.1   ]\n",
      " [  0.    ]\n",
      " [  0.679 ]\n",
      " [  6.434 ]\n",
      " [100.    ]\n",
      " [  1.8347]\n",
      " [ 24.    ]\n",
      " [666.    ]\n",
      " [ 20.2   ]\n",
      " [ 27.25  ]\n",
      " [ 29.05  ]]\n"
     ]
    }
   ],
   "source": [
    "train_data_reshaped = reshape_for_conv1d_dataset(train_features)\n",
    "print(\"******\")\n",
    "test_data_reshaped = reshape_for_conv1d_dataset(test_features, dataset_name='test')"
   ]
  },
  {
   "cell_type": "markdown",
   "metadata": {
    "id": "8o4o8HnpMqi-"
   },
   "source": [
    "### Build the model\n",
    "\n",
    "Building the neural network requires configuring the layers of the model, then compiling the model. First we stack a few layers together using `keras.Sequential`. <br>\n",
    "Next we configure the loss function, optimizer, and metrics to monitor. These are added during the model's compile step:\n",
    "\n",
    "* *Loss function* - measures how accurate the model is during training, we want to minimize this with the optimizer.\n",
    "* *Optimizer* - how the model is updated based on the data it sees and its loss function.\n",
    "* *Metrics* - used to monitor the training and testing steps.\n",
    "\n",
    "Your goal is to build a network that is getting input as the input size, has 3 hidden layers (each one with a different size), and one output layer (as we want to have 1 number at the end).\n",
    "Also, loss function should be: mse (mean squared error), optimizer should be Adam, and we should use mae + mse as our metrics."
   ]
  },
  {
   "cell_type": "code",
   "execution_count": 5,
   "metadata": {
    "id": "hQVUVJs8Mqi_"
   },
   "outputs": [],
   "source": [
    "def build_model():\n",
    "    model = keras.Sequential([\n",
    "        Dense(20, activation=tf.nn.relu, input_shape=[len(train_features[0])]),\n",
    "        Dense(20, activation=tf.nn.relu, input_shape=[20]),\n",
    "        Dense(20, activation=tf.nn.relu, input_shape=[20]),\n",
    "        Dense(1)\n",
    "    ])\n",
    "\n",
    "    model.compile(optimizer=tf.optimizers.Adam(), \n",
    "                  loss='mse',\n",
    "                  metrics=['mae', 'mse'])\n",
    "    return model\n",
    "\n",
    "def build_cnn_model():\n",
    "    row_size = train_data_reshaped.shape[1] #13\n",
    "    col_size = train_data_reshaped.shape[2] #1\n",
    "    model = keras.Sequential(name='model_conv1D')\n",
    "    model.add(keras.layers.Input(shape=(row_size,col_size))) # We want to make sure the model knows our input\n",
    "    model.add(keras.layers.Conv1D(filters=64, kernel_size=7, activation='relu', name=\"Conv1D_1\")) # Conv1D\n",
    "    model.add(keras.layers.Conv1D(filters=32, kernel_size=3, activation='relu', name=\"Conv1D_2\")) # Conv1D\n",
    "    model.add(keras.layers.Conv1D(filters=16, kernel_size=2, activation='relu', name=\"Conv1D_3\")) # Conv1D\n",
    "    model.add(keras.layers.MaxPooling1D(pool_size=2, name=\"MaxPooling1D\")) #MaxPooling1D\n",
    "    model.add(keras.layers.Flatten()) #Flatten\n",
    "    model.add(keras.layers.Dense(32, activation='relu', name=\"Dense_1\")) #Dense FC layer\n",
    "    model.add(keras.layers.Dense(col_size, name=\"Dense_2\")) # we want 1 output\n",
    "    model.compile(optimizer=tf.optimizers.Adam(), \n",
    "                  loss='mse',\n",
    "                  metrics=['mae', 'mse'])\n",
    "    return model"
   ]
  },
  {
   "cell_type": "markdown",
   "metadata": {
    "id": "Qoo9SMfnMqi_"
   },
   "source": [
    "### Train the model\n",
    "\n",
    "Training the neural network model requires the following steps:\n",
    "\n",
    "1. Feed the training data to the model—in this example, the `train_features` and `train_labels` arrays.\n",
    "2. The model learns to associate features and labels.\n",
    "3. We ask the model to make predictions about a test set—in this example, the `test_features` array. We verify that the predictions match the labels from the `test_labels` array. \n",
    "\n",
    "To start training,  call the `model.fit` method—the model is \"fit\" to the training data:"
   ]
  },
  {
   "cell_type": "code",
   "execution_count": 6,
   "metadata": {
    "id": "lt0aIIX1MqjA",
    "outputId": "7c245880-2d27-4111-b21d-6a29601cc971"
   },
   "outputs": [
    {
     "name": "stderr",
     "output_type": "stream",
     "text": [
      "2022-03-13 18:31:09.406861: W tensorflow/stream_executor/platform/default/dso_loader.cc:64] Could not load dynamic library 'libcuda.so.1'; dlerror: libcuda.so.1: cannot open shared object file: No such file or directory\n",
      "2022-03-13 18:31:09.406910: W tensorflow/stream_executor/cuda/cuda_driver.cc:269] failed call to cuInit: UNKNOWN ERROR (303)\n",
      "2022-03-13 18:31:09.406932: I tensorflow/stream_executor/cuda/cuda_diagnostics.cc:156] kernel driver does not appear to be running on this host (driver): /proc/driver/nvidia/version does not exist\n",
      "2022-03-13 18:31:09.408016: I tensorflow/core/platform/cpu_feature_guard.cc:151] This TensorFlow binary is optimized with oneAPI Deep Neural Network Library (oneDNN) to use the following CPU instructions in performance-critical operations:  AVX2 FMA\n",
      "To enable them in other operations, rebuild TensorFlow with the appropriate compiler flags.\n"
     ]
    },
    {
     "name": "stdout",
     "output_type": "stream",
     "text": [
      "\n",
      "....................................................................................................\n",
      "..............................................................................\n",
      "Final Mean Square Error on validation set: 2.781\n"
     ]
    }
   ],
   "source": [
    "# Here and above you have a full example of a NN model performance plotting\n",
    "# You should replicate this mechanism and apply it to other models as well (see TODO below)\n",
    "# this helps makes our output less verbose but still shows progress\n",
    "class PrintDot(keras.callbacks.Callback):\n",
    "    def on_epoch_end(self, epoch, logs):\n",
    "        if epoch % 100 == 0: print('')\n",
    "        print('.', end='')\n",
    "\n",
    "# model instantiation        \n",
    "model = build_model()\n",
    "\n",
    "# TODO: Read about EarlyStoppingRound!\n",
    "early_stop = keras.callbacks.EarlyStopping(monitor='val_loss', patience=50)\n",
    "\n",
    "# training the model and storing data into history\n",
    "history = model.fit(train_features, train_labels, epochs=1000, verbose=0, validation_split = 0.1,\n",
    "                    callbacks=[early_stop, PrintDot()])\n",
    "\n",
    "# using Pandas, generating data\n",
    "hist = pd.DataFrame(history.history)\n",
    "# Adding a column called epoch to that DataFrame\n",
    "hist['epoch'] = history.epoch\n",
    "\n",
    "# RMSE \n",
    "rmse_final = np.sqrt(float(hist['val_mse'].tail(1)))\n",
    "print()\n",
    "print('Final Mean Square Error on validation set: {}'.format(round(rmse_final, 3)))"
   ]
  },
  {
   "cell_type": "markdown",
   "metadata": {
    "id": "SVgeQFjYMqjA"
   },
   "source": [
    "Now, let's plot the loss function measure on the training and validation sets. The validation set is used to prevent overfitting ([learn more about it here](https://www.tensorflow.org/tutorials/keras/overfit_and_underfit)). However, because our network is small, the training convergence without noticeably overfitting the data as the plot shows."
   ]
  },
  {
   "cell_type": "code",
   "execution_count": 7,
   "metadata": {
    "id": "Ukh_98mYMqjA",
    "outputId": "eba47e56-640b-407c-c703-0ff3c1b1768d",
    "scrolled": true
   },
   "outputs": [
    {
     "data": {
      "image/png": "[encoded data removed]",
      "text/plain": [
       "<Figure size 432x288 with 1 Axes>"
      ]
     },
     "metadata": {
      "needs_background": "light"
     },
     "output_type": "display_data"
    }
   ],
   "source": [
    "# Here and above you have a full example of a NN model performance plotting\n",
    "# You should replicate this mechanism and apply it to other models as well (see TODO below)\n",
    "def plot_history(hist=hist):\n",
    "    plt.figure()\n",
    "    plt.xlabel('Epoch')\n",
    "    plt.ylabel('Mean Square Error [Thousand Dollars$^2$]')\n",
    "    plt.plot(hist['epoch'], hist['mse'], label='Train Error')\n",
    "    plt.plot(hist['epoch'], hist['val_mse'], label = 'Val Error')\n",
    "    plt.legend()\n",
    "    plt.ylim([0,50])\n",
    "\n",
    "plot_history()\n",
    "\n",
    "\n",
    "### TODO: Make sure to have the same flow for CNN as well, as the goal will be to see 2 plots:\n",
    "# each one contain train error and val error on each model (NN, CNN) respectively"
   ]
  },
  {
   "cell_type": "markdown",
   "metadata": {
    "id": "8P5ZfvEIMqjB"
   },
   "source": [
    "Next, compare how the model performs on the test dataset:"
   ]
  },
  {
   "cell_type": "code",
   "execution_count": 8,
   "metadata": {
    "id": "ZijCEOIzMqjB",
    "outputId": "acb0c62b-d96c-4aec-f9de-f855f9e9e0b6"
   },
   "outputs": [
    {
     "name": "stdout",
     "output_type": "stream",
     "text": [
      "4/4 [==============================] - 0s 2ms/step - loss: 17.0342 - mae: 2.6761 - mse: 17.0342\n",
      "Root Mean Square Error on test set: 4.127\n"
     ]
    }
   ],
   "source": [
    "test_features_norm = (test_features - train_mean) / train_std\n",
    "mse, _, _ = model.evaluate(test_features_norm, test_labels)\n",
    "rmse = np.sqrt(mse)\n",
    "print('Root Mean Square Error on test set: {}'.format(round(rmse, 3)))\n",
    "\n",
    "## TODO: Make sure to have a mechanism for CNN as well, as above"
   ]
  },
  {
   "cell_type": "code",
   "execution_count": 9,
   "metadata": {
    "collapsed": true
   },
   "outputs": [
    {
     "name": "stdout",
     "output_type": "stream",
     "text": [
      "\n",
      "....................................................................................................\n",
      "....................................................................................................\n",
      "....................................................................................................\n",
      "............\n",
      "Final Mean Square Error on validation set: 2.45\n"
     ]
    }
   ],
   "source": [
    "# Conv1D\n",
    "# model instantiation        \n",
    "cnn_model = build_cnn_model()\n",
    "\n",
    "# TODO: Read about EarlyStoppingRound!\n",
    "early_stop_cnn = keras.callbacks.EarlyStopping(monitor='val_loss', patience=50)\n",
    "\n",
    "# training the model and storing data into history\n",
    "history_cnn = cnn_model.fit(train_features, train_labels, epochs=1000, verbose=0, validation_split = 0.1,\n",
    "                    callbacks=[early_stop_cnn, PrintDot()])\n",
    "\n",
    "# using Pandas, generating data\n",
    "hist_cnn_df = pd.DataFrame(history_cnn.history)\n",
    "# Adding a column called epoch to that DataFrame\n",
    "hist_cnn_df['epoch'] = history_cnn.epoch\n",
    "\n",
    "# RMSE \n",
    "rmse_final = np.sqrt(float(hist_cnn_df['val_mse'].tail(1)))\n",
    "print()\n",
    "print('Final Mean Square Error on validation set: {}'.format(round(rmse_final, 3)))"
   ]
  },
  {
   "cell_type": "code",
   "execution_count": 10,
   "metadata": {},
   "outputs": [
    {
     "data": {
      "image/png": "[encoded data removed]",
      "text/plain": [
       "<Figure size 432x288 with 1 Axes>"
      ]
     },
     "metadata": {
      "needs_background": "light"
     },
     "output_type": "display_data"
    }
   ],
   "source": [
    "# Let's plot the history of our Conv1d CNN model over time\n",
    "plot_history(hist=hist_cnn_df)"
   ]
  },
  {
   "cell_type": "code",
   "execution_count": 11,
   "metadata": {},
   "outputs": [
    {
     "name": "stdout",
     "output_type": "stream",
     "text": [
      "4/4 [==============================] - 0s 3ms/step - loss: 12.3703 - mae: 2.3895 - mse: 12.3703\n",
      "Root Mean Square Error on test set: 3.517\n"
     ]
    }
   ],
   "source": [
    "mse_cnn, _, _ = cnn_model.evaluate(test_features_norm, test_labels)\n",
    "rmse_cnn = np.sqrt(mse_cnn)\n",
    "print('Root Mean Square Error on test set: {}'.format(round(rmse_cnn, 3)))"
   ]
  },
  {
   "cell_type": "markdown",
   "metadata": {
    "id": "ZFph_wLwMqjG"
   },
   "source": [
    "## Acknowledgements\n",
    "\n",
    "The contents of this tutorial is based on and inspired by the work of [TensorFlow team](https://www.tensorflow.org) (see their [Colab notebooks](https://www.tensorflow.org/tutorials/)), our [MIT Human-Centered AI team](https://hcai.mit.edu), and individual pieces referenced in the [MIT Deep Learning](https://deeplearning.mit.edu) course slides."
   ]
  },
  {
   "cell_type": "markdown",
   "metadata": {},
   "source": [
    "### Done! You just finished a competition between NN and CNN, where both network knows how to predict house prices"
   ]
  }
 ],
 "metadata": {
  "colab": {
   "collapsed_sections": [],
   "name": "tutorial_deep_learning_basics.ipynb",
   "provenance": [],
   "toc_visible": true
  },
  "kernelspec": {
   "display_name": "Python 3 (ipykernel)",
   "language": "python",
   "name": "python3"
  },
  "language_info": {
   "codemirror_mode": {
    "name": "ipython",
    "version": 3
   },
   "file_extension": ".py",
   "mimetype": "text/x-python",
   "name": "python",
   "nbconvert_exporter": "python",
   "pygments_lexer": "ipython3",
   "version": "3.9.7"
  }
 },
 "nbformat": 4,
 "nbformat_minor": 1
}
